{
 "cells": [
  {
   "cell_type": "markdown",
   "metadata": {},
   "source": [
    "### Importando as Bibliotecas"
   ]
  },
  {
   "cell_type": "code",
   "execution_count": 1,
   "metadata": {},
   "outputs": [],
   "source": [
    "from selenium import webdriver\n",
    "from time import sleep"
   ]
  },
  {
   "cell_type": "markdown",
   "metadata": {},
   "source": [
    "### Estabelecendo a URL padrão"
   ]
  },
  {
   "cell_type": "code",
   "execution_count": 2,
   "metadata": {},
   "outputs": [],
   "source": [
    "URL_LINKEDIN_DS = 'https://br.linkedin.com/jobs/ci%C3%AAncia-de-dados-vagas?position=1&pageNum=0'"
   ]
  },
  {
   "cell_type": "markdown",
   "metadata": {},
   "source": [
    "### Processos para Acesso ao Navegador e Tags"
   ]
  },
  {
   "cell_type": "code",
   "execution_count": null,
   "metadata": {},
   "outputs": [],
   "source": [
    "# Criar Instância do Google Chrome pelo Selenium\n",
    "driver = webdriver.Chrome()\n",
    "driver.implicitly_wait(10)\n",
    "\n",
    "# Acesso ao Linkedin\n",
    "driver.get(URL_LINKEDIN_DS)\n",
    "\n",
    "# Pegar Lista de Resultados de Vagas de DS\n",
    "resultados = driver.find_elements_by_class_name('base-card__full-link')"
   ]
  },
  {
   "cell_type": "markdown",
   "metadata": {},
   "source": [
    "### Loop para coletar as decrições dos Sites Clicados"
   ]
  },
  {
   "cell_type": "code",
   "execution_count": null,
   "metadata": {},
   "outputs": [],
   "source": [
    "# Iniciar While Loop em cima de todos os resultados\n",
    "\n",
    "resultados = driver.find_elements_by_class_name('base-card__full-link') \n",
    "\n",
    "lista_de_descricao = []\n",
    "\n",
    "while True:\n",
    "    # For para coleta de descrições\n",
    "    for res in resultados[len(lista_de_descricao) : ]:\n",
    "        res.click() # Clicar na Descrição\n",
    "        sleep(1)\n",
    "        try:\n",
    "            descricao = driver.find_element_by_class_name('show-more-less-html__markup')\n",
    "            \n",
    "            # Anexar o Texto na Lista\n",
    "            lista_de_descricao.append(descricao.text)\n",
    "        except:\n",
    "            \n",
    "            pass\n",
    "        \n",
    "    resultados = driver.find_elements_by_class_name('base-card__full-link')\n",
    "\n",
    "# Critério de saída do While    \n",
    "    if len(lista_de_descricao) == len(resultados):\n",
    "        break"
   ]
  },
  {
   "cell_type": "markdown",
   "metadata": {},
   "source": [
    "### Juntando as descrições em uma variável"
   ]
  },
  {
   "cell_type": "code",
   "execution_count": null,
   "metadata": {},
   "outputs": [],
   "source": [
    "descricao_salvar = '\\n'.join(lista_de_descricao)\n",
    "descricao_salvar"
   ]
  },
  {
   "cell_type": "markdown",
   "metadata": {},
   "source": [
    "### Salvando as descrições em um Arquivo TXT"
   ]
  },
  {
   "cell_type": "code",
   "execution_count": null,
   "metadata": {},
   "outputs": [],
   "source": [
    "with open('descricoes_vagas.txt' , 'w') as f:\n",
    "        f.write(descricao_salvar)"
   ]
  },
  {
   "cell_type": "markdown",
   "metadata": {},
   "source": [
    "### Fechando o Driver"
   ]
  },
  {
   "cell_type": "code",
   "execution_count": null,
   "metadata": {},
   "outputs": [],
   "source": [
    "driver.quit() # Fechar o Chrome"
   ]
  }
 ],
 "metadata": {
  "kernelspec": {
   "display_name": "Python 3",
   "language": "python",
   "name": "python3"
  },
  "language_info": {
   "codemirror_mode": {
    "name": "ipython",
    "version": 3
   },
   "file_extension": ".py",
   "mimetype": "text/x-python",
   "name": "python",
   "nbconvert_exporter": "python",
   "pygments_lexer": "ipython3",
   "version": "3.8.5"
  }
 },
 "nbformat": 4,
 "nbformat_minor": 4
}
