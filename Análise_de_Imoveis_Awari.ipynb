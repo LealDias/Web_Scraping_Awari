{
 "cells": [
  {
   "cell_type": "markdown",
   "metadata": {},
   "source": [
    "### Web Scraping de Dados de Imovéis da Cidade de Rio das Ostras"
   ]
  },
  {
   "cell_type": "markdown",
   "metadata": {},
   "source": [
    "#### 1 - Importando as Bibliotecas Necessárias"
   ]
  },
  {
   "cell_type": "code",
   "execution_count": 1,
   "metadata": {},
   "outputs": [],
   "source": [
    "from selenium import webdriver\n",
    "from time import sleep\n",
    "\n",
    "from selenium.webdriver.support.ui import WebDriverWait\n",
    "from selenium.webdriver.support import expected_conditions as EC"
   ]
  },
  {
   "cell_type": "markdown",
   "metadata": {},
   "source": [
    "#### 2 - Acesso e Controle do Navegador"
   ]
  },
  {
   "cell_type": "code",
   "execution_count": 2,
   "metadata": {},
   "outputs": [],
   "source": [
    "URL_IMOVEIS = \"https://www.vivareal.com.br/venda/rj/rio-das-ostras/\" # -> URL a ser pesquisada"
   ]
  },
  {
   "cell_type": "code",
   "execution_count": 3,
   "metadata": {},
   "outputs": [],
   "source": [
    "# Criar Instância do Google Chrome pelo Selenium\n",
    "driver = webdriver.Chrome()\n",
    "driver.implicitly_wait(10)\n",
    "\n",
    "# Acesso ao Site através do método get\n",
    "driver.get(URL_IMOVEIS)"
   ]
  },
  {
   "cell_type": "markdown",
   "metadata": {},
   "source": [
    "#### 3 -  Acesso as classes HTML com os Dados"
   ]
  },
  {
   "cell_type": "code",
   "execution_count": 4,
   "metadata": {
    "scrolled": false
   },
   "outputs": [
    {
     "name": "stderr",
     "output_type": "stream",
     "text": [
      "<ipython-input-4-c609c702b0a6>:2: DeprecationWarning: find_elements_by_class_name is deprecated. Please use find_elements(by=By.CLASS_NAME, value=name) instead\n",
      "  resultados_imoveis = driver.find_elements_by_class_name('property-card__main-info')\n"
     ]
    }
   ],
   "source": [
    "# Pegar Lista de Resultados dos Imoveis\n",
    "resultados_imoveis = driver.find_elements_by_class_name('property-card__main-info')"
   ]
  },
  {
   "cell_type": "code",
   "execution_count": 5,
   "metadata": {},
   "outputs": [
    {
     "data": {
      "text/plain": [
       "36"
      ]
     },
     "execution_count": 5,
     "metadata": {},
     "output_type": "execute_result"
    }
   ],
   "source": [
    "len(resultados_imoveis)"
   ]
  },
  {
   "cell_type": "markdown",
   "metadata": {},
   "source": [
    "#### Preparando para Acessar as Janelas"
   ]
  },
  {
   "cell_type": "code",
   "execution_count": 6,
   "metadata": {},
   "outputs": [],
   "source": [
    "# Setup wait for later\n",
    "wait = WebDriverWait(driver, 10)\n",
    "\n",
    "# Store the ID of the original window\n",
    "original_window = driver.current_window_handle"
   ]
  },
  {
   "cell_type": "markdown",
   "metadata": {},
   "source": [
    "### Loop para Acesso dos Sites (Cliques em Cada Link da Primeira Página)"
   ]
  },
  {
   "cell_type": "code",
   "execution_count": 7,
   "metadata": {},
   "outputs": [
    {
     "name": "stderr",
     "output_type": "stream",
     "text": [
      "<ipython-input-7-ad51d1483c02>:19: DeprecationWarning: find_element_by_class_name is deprecated. Please use find_element(by=By.CLASS_NAME, value=name) instead\n",
      "  features = driver.find_element_by_class_name('features')\n"
     ]
    }
   ],
   "source": [
    "lista_casas = []\n",
    "\n",
    "while True:\n",
    "    # For para coleta de descrições\n",
    "    for res in resultados_imoveis:\n",
    "        \n",
    "        assert len(driver.window_handles) == 1\n",
    "        \n",
    "        res.click() # Clicar na Descrição\n",
    "        \n",
    "        sleep(2)\n",
    "        \n",
    "        wait.until(EC.number_of_windows_to_be(2))\n",
    "        \n",
    "        for window_handle in driver.window_handles:\n",
    "            \n",
    "            if window_handle != original_window:\n",
    "                driver.switch_to.window(window_handle)\n",
    "                features = driver.find_element_by_class_name('features')\n",
    "                lista_casas.append(features.text)\n",
    "                \n",
    "                driver.close()\n",
    "                \n",
    "                driver.switch_to.window(original_window)\n",
    "                \n",
    "                break\n",
    "                \n",
    "    break         "
   ]
  },
  {
   "cell_type": "code",
   "execution_count": 8,
   "metadata": {},
   "outputs": [
    {
     "data": {
      "text/plain": [
       "['64m²\\n2 quartos\\n2 banheiros\\n1 suíte\\n1 vaga',\n",
       " '180m²\\n3 quartos\\n3 banheiros\\n1 suíte\\n2 vagas',\n",
       " '220m²\\n4 quartos\\n2 banheiros\\n2 suítes\\n4 vagas',\n",
       " '102m²\\n3 quartos\\n2 banheiros\\n1 suíte\\n1 vaga',\n",
       " '114m²\\n3 quartos\\n3 banheiros\\n2 suítes\\n2 vagas',\n",
       " '119m²\\n4 quartos\\n3 banheiros\\n1 suíte\\n2 vagas',\n",
       " '300m²\\n4 quartos\\n4 banheiros\\n1 suíte\\n2 vagas',\n",
       " '210m²\\n4 quartos\\n5 banheiros\\n3 suítes\\n3 vagas',\n",
       " '63m²\\n2 quartos\\n2 banheiros\\n1 suíte\\n1 vaga',\n",
       " '300m²\\n3 quartos\\n2 banheiros\\n2 vagas',\n",
       " '66m²\\n2 quartos\\n1 banheiro\\nNão informado SOLICITAR',\n",
       " '90m²\\n2 quartos\\n3 banheiros\\n2 suítes\\n1 vaga',\n",
       " '222m²\\n3 quartos\\n3 banheiros\\n2 suítes\\n5 vagas',\n",
       " '160m²\\n3 quartos\\n3 banheiros\\n2 suítes\\n3 vagas',\n",
       " '550m²\\n3 quartos\\n5 banheiros\\n3 suítes\\n4 vagas',\n",
       " '78m²\\n2 quartos\\n1 banheiro\\n2 suítes\\n2 vagas',\n",
       " '225m²\\n4 quartos\\n4 banheiros\\n2 suítes\\n2 vagas',\n",
       " '83m²\\n3 quartos\\n2 banheiros\\n1 suíte\\n4 vagas',\n",
       " '220m²\\n4 quartos\\n3 banheiros\\n2 suítes\\n4 vagas',\n",
       " '71m²\\n2 quartos\\n1 banheiro\\n1 vaga',\n",
       " '360m²\\nNão informado SOLICITAR\\nNão informado SOLICITAR\\nNão informado SOLICITAR',\n",
       " '90m²\\n2 quartos\\n2 banheiros\\n1 suíte\\n2 vagas',\n",
       " '608m²\\n4 quartos\\n4 banheiros\\n1 suíte\\n6 vagas',\n",
       " '140m²\\n3 quartos\\n3 banheiros\\n4 vagas',\n",
       " '88m²\\n2 quartos\\n3 banheiros\\n2 suítes\\n2 vagas',\n",
       " '110m²\\n2 quartos\\n4 banheiros\\n2 suítes\\n2 vagas',\n",
       " '58m²\\n2 quartos\\n2 banheiros\\n1 suíte\\n1 vaga',\n",
       " '97m²\\n3 quartos\\n2 banheiros\\n1 suíte\\n2 vagas',\n",
       " '120m²\\n3 quartos\\n3 banheiros\\n2 suítes\\n3 vagas',\n",
       " '550m²\\n4 quartos\\n6 banheiros\\n4 suítes\\n5 vagas',\n",
       " '360m²\\n4 quartos\\n3 banheiros\\nNão informado SOLICITAR',\n",
       " '330m²\\n4 quartos\\n5 banheiros\\n4 suítes\\n4 vagas',\n",
       " '517m²\\nNão informado SOLICITAR\\nNão informado SOLICITAR\\nNão informado SOLICITAR',\n",
       " '114m²\\n3 quartos\\n3 banheiros\\n2 suítes\\n4 vagas',\n",
       " '66m²\\n2 quartos\\n1 banheiro\\n2 vagas',\n",
       " '608m²\\nNão informado SOLICITAR\\nNão informado SOLICITAR\\nNão informado SOLICITAR']"
      ]
     },
     "execution_count": 8,
     "metadata": {},
     "output_type": "execute_result"
    }
   ],
   "source": [
    "lista_casas # Lista com as Informações Coletadas"
   ]
  },
  {
   "cell_type": "markdown",
   "metadata": {},
   "source": [
    "#### FIM"
   ]
  }
 ],
 "metadata": {
  "kernelspec": {
   "display_name": "Python 3",
   "language": "python",
   "name": "python3"
  },
  "language_info": {
   "codemirror_mode": {
    "name": "ipython",
    "version": 3
   },
   "file_extension": ".py",
   "mimetype": "text/x-python",
   "name": "python",
   "nbconvert_exporter": "python",
   "pygments_lexer": "ipython3",
   "version": "3.8.5"
  }
 },
 "nbformat": 4,
 "nbformat_minor": 4
}
